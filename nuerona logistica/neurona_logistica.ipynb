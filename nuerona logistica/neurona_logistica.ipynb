{
 "cells": [
  {
   "cell_type": "markdown",
   "metadata": {},
   "source": [
    "<img src=\"imagenes/rn3.png\" width=\"200\">\n",
    "<img src=\"http://www.identidadbuho.uson.mx/assets/letragrama-rgb-150.jpg\" width=\"200\">"
   ]
  },
  {
   "cell_type": "markdown",
   "metadata": {},
   "source": [
    "# [Curso de Redes Neuronales](https://curso-redes-neuronales-unison.github.io/Temario/)\n",
    "\n",
    "# Una sola neurona logística\n",
    "\n",
    "[**Julio Waissman Vilanova**](http://mat.uson.mx/~juliowaissman/), 21 de febrero de 2018.\n",
    "\n",
    "Jordan Joel Urias Paramo. Ultima modificacion 21 de Septiembre del 2018\n",
    "\n",
    "En esta libreta vamos a revisar los aspectos básicos del aprendizaje para una sola neurona de salida logística, sin capas ocultas y usando el criterio de pérdida de entropia en dos clases. El algoritmo es sencillo pero es importante entenderlo bien antes de pasar a cosas más complicadas.\n",
    "\n",
    "Empecemos por inicializar los modulos que vamos a requerir."
   ]
  },
  {
   "cell_type": "code",
   "execution_count": 1,
   "metadata": {},
   "outputs": [],
   "source": [
    "%matplotlib inline\n",
    "import numpy as np\n",
    "import matplotlib.pyplot as plt\n",
    "from IPython.display import Image  # Esto es para desplegar imágenes en la libreta\n",
    "\n",
    "plt.rcParams['figure.figsize'] = (20,10)\n",
    "plt.style.use('ggplot')"
   ]
  },
  {
   "cell_type": "markdown",
   "metadata": {},
   "source": [
    "## 1. Función logística, función de pérdida y gradiente de la función de costo"
   ]
  },
  {
   "cell_type": "markdown",
   "metadata": {},
   "source": [
    "La función logística está dada por \n",
    "\n",
    "$$\n",
    "g(z) = \\frac{1}{1 + e^{-z}},\n",
    "$$\n",
    "\n",
    "la cual es importante que podamos calcular en forma vectorial. Si bien el calculo es de una sola linea, el uso de estas funciones auxiliares facilitan la legibilidad del código.\n",
    "\n",
    "#### Desarrolla la función logística, la cual se calcule para todos los elementos de un ndarray."
   ]
  },
  {
   "cell_type": "code",
   "execution_count": 2,
   "metadata": {},
   "outputs": [],
   "source": [
    "def logistica(z):\n",
    "    \"\"\"\n",
    "    Calcula la función logística para cada elemento de z\n",
    "    \n",
    "    @param z: un ndarray\n",
    "    @return: un ndarray de las mismas dimensiones que z\n",
    "    \"\"\"\n",
    "    # Introduce código aqui (una linea de código)\n",
    "    #---------------------------------------------------\n",
    "    return 1 / (1 + np.exp(-z))\n",
    "    #---------------------------------------------------\n",
    "    \n",
    "# prueba que efectivamente funciona la función implementada\n",
    "# si el assert es falso regresa un error de aserción (el testunit de los pobres)\n",
    "assert (np.abs(logistica(np.array([-1, 0, 1])) - np.array([ 0.26894142, 0.5, 0.73105858]))).sum() < 1e-6\n"
   ]
  },
  {
   "cell_type": "markdown",
   "metadata": {},
   "source": [
    "Para probar la función vamos a graficar la función logística en el intervalo [-5, 5]"
   ]
  },
  {
   "cell_type": "code",
   "execution_count": 3,
   "metadata": {},
   "outputs": [
    {
     "data": {
      "text/plain": [
       "Text(0,0.5,'$\\\\frac{1}{1 + \\\\exp(-z)}$')"
      ]
     },
     "execution_count": 3,
     "metadata": {},
     "output_type": "execute_result"
    },
    {
     "data": {
      "image/png": "[encoded data removed]",
      "text/plain": [
       "<matplotlib.figure.Figure at 0x241be22c860>"
      ]
     },
     "metadata": {},
     "output_type": "display_data"
    }
   ],
   "source": [
    "z = np.linspace(-5, 5, 100)\n",
    "\n",
    "plt.plot( z, logistica(z))\n",
    "plt.title(u'Función logística', fontsize=20)\n",
    "plt.xlabel(r'$z$', fontsize=20)\n",
    "plt.ylabel(r'$\\frac{1}{1 + \\exp(-z)}$', fontsize=26)\n"
   ]
  },
  {
   "cell_type": "markdown",
   "metadata": {},
   "source": [
    "Una vez establecida la función logística, vamos a implementar la función de pérdida *sin regularizar* que se utiliza típicamente en clasificación binaria, la cual está dada por\n",
    "\n",
    "$$\n",
    "Loss(w, b) = -\\frac{1}{M} \\sum_{i=1}^M \\left[ y^{(i)}\\log(a^{(i)}) + (1 - y^{(i)})\\log(1 - a^{(i)})\\right],\n",
    "$$\n",
    "\n",
    "donde \n",
    "\n",
    "$$\n",
    "a^{(i)} = g(z^{(i)}), \\quad\\quad z^{(i)} = w^T x^{(i)} + b\n",
    "$$\n",
    "\n",
    "las cuales fueron ecuaciones revisadas en clase.\n",
    "\n",
    "#### Implementa la función de pérdida para un conjunto de aprendizaje."
   ]
  },
  {
   "cell_type": "code",
   "execution_count": 4,
   "metadata": {},
   "outputs": [],
   "source": [
    "def Loss(x, y, w, b):\n",
    "    \"\"\"\n",
    "    Calcula el costo de una w dada para el conjunto dee entrenamiento dado por y y x\n",
    "    \n",
    "    @param x: un ndarray de dimensión (M, n) con la matriz de diseño\n",
    "    @param y: un ndarray de dimensión (M, ) donde cada entrada es 1.0 o 0.0\n",
    "    @param w: un ndarray de dimensión (n, ) con los pesos\n",
    "    @param b: un flotante con el sesgo\n",
    "\n",
    "    @return: un flotante con el valor de pérdida\n",
    "    \n",
    "    \"\"\" \n",
    "    M = x.shape[0]\n",
    "   \n",
    "#------------------------------------------------------------------------\n",
    "    # Agregua aqui tu código\n",
    "    a = logistica(x @ w + b)\n",
    "    \n",
    "    return -1/M *  np.sum( y*np.log(a) + (1 - y)*np.log(1 - a) )\n",
    "    #------------------------------------------------------------------------\n",
    "\n",
    "    \n",
    "# Otra vez el testunit del pobre (ya lo calcule yo, pero puedes hacerlo a mano para estar seguro)\n",
    "w = np.array([1])\n",
    "b = 1.0\n",
    "\n",
    "x = np.array([[10],\n",
    "              [-5]])\n",
    "\n",
    "y1 = np.array([1, 0])\n",
    "y2 = np.array([0, 1])\n",
    "y3 = np.array([0, 0])\n",
    "y4 = np.array([1, 1])\n",
    "\n",
    "assert abs(Loss(x, y1, w, b) - 0.01) < 1e-2\n",
    "assert abs(Loss(x, y2, w, b) - 7.5) < 1e-2\n",
    "assert abs(Loss(x, y3, w, b) - 5.5) < 1e-2\n",
    "assert abs(Loss(x, y4, w, b) - 2.0) < 1e-2"
   ]
  },
  {
   "cell_type": "markdown",
   "metadata": {},
   "source": [
    "De la misma manera, para poder implementar las funciones de aprendizaje, vamos a implementar el gradiente de la función de pérdida. El gradiente de la función de pérdida respecto a $\\omega$ es (como lo vimos en clase) el siguiente:\n",
    "\n",
    "$$\n",
    "\\frac{\\partial Loss(w, b)}{\\partial w_j} = -\\frac{1}{M} \\sum_{i=1}^M \\left(y^{(i)} - a^{(i)}\\right)x_j^{(i)} \n",
    "$$\n",
    "\n",
    "$$\n",
    "\\frac{\\partial Loss(w, b)}{\\partial b} = -\\frac{1}{M} \\sum_{i=1}^M \\left(y^{(i)} - a^{(i)}\\right) \n",
    "$$\n",
    "\n",
    "y a partir de las ecuaciones individuales de puede obtener $\\nabla Loss(\\omega)$, la cual no la vamos a escribir en la libreta para que revisen en sus notas como se puede resolver este problema en forma matricial. \n",
    "\n",
    "#### IImplementa (con operaciones matriciales) el calculo del gradiente de la función de pérdida."
   ]
  },
  {
   "cell_type": "code",
   "execution_count": 5,
   "metadata": {},
   "outputs": [],
   "source": [
    "def gradiente(x, y, w, b):\n",
    "    \"\"\"\n",
    "    Calcula el gradiente de la función de pérdida para clasificación binaria, \n",
    "    utilizando una neurona logística, para w y b y conociendo un conjunto de aprendizaje.\n",
    "    \n",
    "    @param x: un ndarray de dimensión (M, n) con la matriz de diseño\n",
    "    @param y: un ndarray de dimensión (M, ) donde cada entrada es 1.0 o 0.0\n",
    "    @param w: un ndarray de dimensión (n, ) con los pesos\n",
    "    @param b: un flotante con el sesgo\n",
    "    \n",
    "    @return: dw, db, un ndarray de mismas dimensiones que w y un flotnte con el cálculo de \n",
    "             la dervada evluada en el punto w y b\n",
    "                 \n",
    "    \"\"\"\n",
    "    M = x.shape[0]\n",
    "\n",
    "    #------------------------------------------------------------------------\n",
    "    # Agregua aqui tu código\n",
    "    a = logistica(x @ w + b)\n",
    "    \n",
    "    dw = (-1/M) * (y - a) @ x\n",
    "    db = -(y - a).mean()\n",
    "    #------------------------------------------------------------------------\n",
    "    \n",
    "    return dw, db\n",
    "\n",
    "\n",
    "    \n",
    "# Otra vez el testunit del pobre (ya lo calcule yo, pero puedes hacerlo a mano para estar seguro)\n",
    "w = np.array([1])\n",
    "b = 1.0\n",
    "\n",
    "x = np.array([[10],\n",
    "              [-5]])\n",
    "\n",
    "y1 = np.array([1, 0])\n",
    "y2 = np.array([0, 1])\n",
    "y3 = np.array([0, 0])\n",
    "y4 = np.array([1, 1])\n",
    "\n",
    "assert abs(0.00898475 - gradiente(x, y1, w, b)[1]) < 1e-4\n",
    "assert abs(7.45495097 - gradiente(x, y2, w, b)[0]) < 1e-4 \n",
    "assert abs(4.95495097 - gradiente(x, y3, w, b)[0]) < 1e-4 \n",
    "assert abs(-0.49101525 - gradiente(x, y4, w, b)[1]) < 1e-4     "
   ]
  },
  {
   "cell_type": "markdown",
   "metadata": {},
   "source": [
    "## 2. Descenso de gradiente"
   ]
  },
  {
   "cell_type": "markdown",
   "metadata": {},
   "source": [
    "Ahora vamos a desarrollar las funciones necesarias para realizar el entrenamiento y encontrar la mejor $\\omega$ de acuero a la función de costos y un conjunto de datos de aprendizaje.\n",
    "\n",
    "Para este problema, vamos a utilizar una base de datos sintética proveniente del curso de [Andrew Ng](www.andrewng.org/) que se encuentra en [Coursera](https://www.coursera.org). Supongamos que pertenecemos al departamente de servicios escolares de la UNISON y vamos a modificar el procedimiento de admisión. En lugar de utilizar un solo exámen (EXCOBA) y la información del cardex de la preparatoria, hemos decidido aplicar dos exámenes, uno sicométrico y otro de habilidades estudiantiles. Dichos exámenes se han aplicado el último año aunque no fueron utilizados como criterio. Así, tenemos un historial entre estudiantes aceptados y resultados de los dos exámenes. El objetivo es hacer un método de regresión que nos permita hacer la admisión a la UNISON tomando en cuenta únicamente los dos exámenes y simplificar el proceso. *Recuerda que esto no es verdad, es solo un ejercicio*.\n",
    "\n",
    "Bien, los datos se encuentran en el archivo `admision.txt` el cual se encuentra en formato `cvs` (osea los valores de las columnas separados por comas. Vamos a leer los datos y graficar la información para entender un poco los datos."
   ]
  },
  {
   "cell_type": "code",
   "execution_count": 6,
   "metadata": {},
   "outputs": [
    {
     "data": {
      "text/plain": [
       "<matplotlib.legend.Legend at 0x241c03b2ef0>"
      ]
     },
     "execution_count": 6,
     "metadata": {},
     "output_type": "execute_result"
    },
    {
     "data": {
      "image/png": "[encoded data removed]",
      "text/plain": [
       "<matplotlib.figure.Figure at 0x241c0385400>"
      ]
     },
     "metadata": {},
     "output_type": "display_data"
    }
   ],
   "source": [
    "datos = np.loadtxt('datos/admision.txt', comments='%', delimiter=',')\n",
    "\n",
    "x, y = datos[:,0:-1], datos[:,-1] \n",
    "\n",
    "plt.plot(x[y == 1, 0], x[y == 1, 1], 'sr', label='aceptados') \n",
    "plt.plot(x[y == 0, 0], x[y == 0, 1], 'ob', label='rechazados')\n",
    "plt.title(u'Ejemplo sintético para regresión logística')\n",
    "plt.xlabel(u'Calificación del primer examen')\n",
    "plt.ylabel(u'Calificación del segundo examen')\n",
    "plt.axis([20, 100, 20, 100])\n",
    "plt.legend(loc=0)\n"
   ]
  },
  {
   "cell_type": "markdown",
   "metadata": {},
   "source": [
    "Vistos los datos un clasificador lineal podría ser una buena solución. Ahora vamos a implementar el método de descenso de gradiente, casi de la misma manera que lo implementamos para regresión lineal (por lotes)\n",
    "\n",
    "#### Implementa el descenso de gradiente para el problema de regresión logística en modo batch."
   ]
  },
  {
   "cell_type": "code",
   "execution_count": 7,
   "metadata": {},
   "outputs": [],
   "source": [
    "def descenso_rl_lotes(x, y, alpha, max_iter=int(1e4), tol=1e-4, historial=False):\n",
    "    \"\"\"\n",
    "    Descenso de gradiente por lotes para resolver el problema de regresión logística con un conjunto de aprendizaje\n",
    "\n",
    "    @param x: un ndarray de dimensión (M, n) con la matriz de diseño\n",
    "    @param y: un ndarray de dimensión (M, ) donde cada entrada es 1.0 o 0.0\n",
    "    @param alpha: Un flotante (típicamente pequeño) con la tasa de aprendizaje\n",
    "    @param tol: Un flotante pequeño como criterio de paro. Por default 1e-4\n",
    "    @param max_iter: Máximo numero de iteraciones. Por default 1e4\n",
    "    @param historial: Un booleano para saber si guardamos el historial de la función de pérdida o no\n",
    "    \n",
    "    @return: w, b, perdida_hist donde w es ndarray de dimensión (n, ) con los pesos; el flotante b  \n",
    "             con el sesgo y perdida_hist, un ndarray de dimensión (max_iter,) con el valor de la función \n",
    "             de pérdida en cada iteración. Si historial == True, entonces perdida_hist = None.\n",
    "             \n",
    "    \"\"\"\n",
    "    M, n = x.shape\n",
    "    \n",
    "    w = np.zeros(n)\n",
    "    b = 0.0\n",
    "\n",
    "    if historial:\n",
    "        perdida_hist = np.zeros(max_iter)\n",
    "        perdida_hist[0] = Loss(x, y, w, b)\n",
    "    else:\n",
    "        perdida_hist = None\n",
    "        \n",
    "    \n",
    "    for iter in range(1, max_iter):\n",
    "        #--------------------------------------------------------------\n",
    "        # Agregar aqui tu código\n",
    "        #\n",
    "        # Recuerda utilizar las funciones que ya has desarrollado\n",
    "        def batching(l, n):\n",
    "            # looping till length l \",\n",
    "            for i in range(0, len(l), n): \n",
    "                yield l[i:i + n]\n",
    "        \n",
    "        for xbatch, ybatch in zip(batching(x, 50), batching(y, 50)):\n",
    "            dw, db = gradiente(xbatch, ybatch, w, b)\n",
    "\n",
    "            w -= alpha * dw\n",
    "            b -= alpha * db\n",
    "\n",
    "        if historial:\n",
    "            perdida_hist[iter] = Loss(x,y,w,b)\n",
    "            if (perdida_hist[iter] < tol):\n",
    "                return w, b, perdida_hist\n",
    "        else:\n",
    "            if(Loss(x,y,w,b) < tol):\n",
    "                return w, b, perdida_hist\n",
    "            \n",
    "        \n",
    "        #--------------------------------------------------------------\n",
    "\n",
    "    return w, b, perdida_hist\n",
    "\n"
   ]
  },
  {
   "cell_type": "markdown",
   "metadata": {},
   "source": [
    "Para probar la función de aprendizaje, vamos a aplicarla a nuestro problema de admisión. Primero recuerda que tienes que hacer una exploración para encontrar el mejor valor de $\\epsilon$. Así que utiliza el código de abajo para ajustar $\\epsilon$."
   ]
  },
  {
   "cell_type": "code",
   "execution_count": 8,
   "metadata": {},
   "outputs": [
    {
     "data": {
      "text/plain": [
       "Text(0,0.5,'perdida')"
      ]
     },
     "execution_count": 8,
     "metadata": {},
     "output_type": "execute_result"
    },
    {
     "data": {
      "image/png": "[encoded data removed]",
      "text/plain": [
       "<matplotlib.figure.Figure at 0x241c038ce48>"
      ]
     },
     "metadata": {},
     "output_type": "display_data"
    }
   ],
   "source": [
    "alpha = 1e-3\n",
    "mi = 1000000\n",
    "w, b, perdida_hist = descenso_rl_lotes(x, y, alpha, max_iter=mi, tol=1e-4, historial=True)\n",
    "plt.plot(np.arange(mi), perdida_hist)\n",
    "plt.title(r'Evolucion del valor de la funci\\'on de p\\'erdida en las primeras iteraciones con $\\alpha$ = ' + str(alpha))\n",
    "plt.xlabel('iteraciones')\n",
    "plt.ylabel('perdida')\n"
   ]
  },
  {
   "cell_type": "markdown",
   "metadata": {},
   "source": [
    "Una vez encontrado el mejor $\\epsilon$, entonces podemos calcular $\\omega$ (esto va a tardar bastante), recuerda que el costo final debe de ser lo más cercano a 0 posible, así que agrega cuantas iteraciones sean necesarias (a partir de una función de pérdida con un valor de al rededor de 0.22 ya está bien): "
   ]
  },
  {
   "cell_type": "code",
   "execution_count": 9,
   "metadata": {},
   "outputs": [
    {
     "name": "stdout",
     "output_type": "stream",
     "text": [
      "Los pesos obtenidos son: \n",
      "[0.16196541 0.15918963]\n",
      "El sesgo obtenidos es: \n",
      "-19.618542041333278\n",
      "El valor final de la función de pérdida es: 0.21018948734620208\n"
     ]
    }
   ],
   "source": [
    "# w, b, _ = descenso_rl_lotes(x, y, alpha, max_iter = 1000000)\n",
    "print(\"Los pesos obtenidos son: \\n{}\".format(w))\n",
    "print(\"El sesgo obtenidos es: \\n{}\".format(b))\n",
    "print(\"El valor final de la función de pérdida es: {}\".format(Loss(x, y, w, b))) "
   ]
  },
  {
   "cell_type": "markdown",
   "metadata": {},
   "source": [
    "Es interesante ver como el descenso de gradiente no es muy eficiente en este tipo de problemas, a pesar de ser problemas de optimización convexos.\n",
    "\n",
    "Bueno, este método nos devuelve $\\omega$, pero esto no es suficiente para decir que tenemos un clasificador, ya que un método de clasificación se compone de dos métodos, uno para **aprender** y otro para **predecir**. \n",
    "\n",
    "Recuerda que $a^{(i)} = \\Pr[y^{(i)} = 1 | x^{(i)} ; w, b]$, y a partir de esta probabilidad debemos tomar una desición. Igualmente recuerda que para tomar la desicion no necesitamos calcular el valor de la logística, si conocemos el umbral."
   ]
  },
  {
   "cell_type": "markdown",
   "metadata": {},
   "source": [
    "#### Desarrolla una función de predicción."
   ]
  },
  {
   "cell_type": "code",
   "execution_count": 10,
   "metadata": {},
   "outputs": [],
   "source": [
    "def predictor(x, w, b):\n",
    "    \"\"\"\n",
    "    Predice los valores de y_hat (que solo pueden ser 0 o 1), utilizando el criterio MAP.\n",
    "    \n",
    "    @param x: un ndarray de dimensión (M, n) con la matriz de diseño\n",
    "    @param w: un ndarray de dimensión (n, ) con los pesos\n",
    "    @param b: un flotante con el sesgo\n",
    "\n",
    "    @return: un ndarray de dimensión (M, ) donde cada entrada es 1.0 o 0.0 con la salida estimada\n",
    "    \"\"\"\n",
    "    #-------------------------------------------------------------------------------------\n",
    "    # Agrega aqui tu código sin utilizar la función logística\n",
    "    \n",
    "    return x @ w + b >= 0\n",
    "    \n",
    "    #--------------------------------------------------------------------------------------\n",
    "\n",
    "    "
   ]
  },
  {
   "cell_type": "markdown",
   "metadata": {},
   "source": [
    "¿Que tan bueno es este clasificador? ¿Es que implementamos bien el método?\n",
    "\n",
    "Vamos a contestar esto por partes. Primero, vamos a graficar los mismos datos pero vamos a agregar la superficie de separación, la cual en este caso sabemos que es una linea recta. Como sabemos el criterio para decidir si un punto pertenece a la clase distinguida o no es si el valor de $w^T x^{(i)} + b \\ge 0$, por lo que la frontera entre la región donde se escoge una clase de otra se encuentra en:\n",
    "\n",
    "$$\n",
    "0 = b + w_1 x_1  + w_2 x_2,\n",
    "$$\n",
    "\n",
    "y despejando:\n",
    "\n",
    "$$\n",
    "x_2 = -\\frac{b}{w_2} -\\frac{w_1}{w_2}x_1\n",
    "$$\n",
    "\n",
    "son los pares $(x_1, x_2)$ los valores en la forntera. Al ser estos (en este caso) una linea recta solo necesitamos dos para graficar la superficie de separación. \n"
   ]
  },
  {
   "cell_type": "code",
   "execution_count": 11,
   "metadata": {},
   "outputs": [
    {
     "data": {
      "text/plain": [
       "<matplotlib.legend.Legend at 0x241c1020710>"
      ]
     },
     "execution_count": 11,
     "metadata": {},
     "output_type": "execute_result"
    },
    {
     "data": {
      "image/png": "[encoded data removed]",
      "text/plain": [
       "<matplotlib.figure.Figure at 0x241c1000c18>"
      ]
     },
     "metadata": {},
     "output_type": "display_data"
    }
   ],
   "source": [
    "x1_frontera = np.array([20, 100]) #Los valores mínimo y máximo que tenemos en la gráfica de puntos\n",
    "x2_frontera = -(b / w[1]) - (w[0] / w[1]) * x1_frontera\n",
    "\n",
    "plt.plot(x[y == 1, 0], x[y == 1, 1], 'sr', label='aceptados') \n",
    "plt.plot(x[y == 0, 0], x[y == 0, 1], 'ob', label='rechazados')\n",
    "plt.plot(x1_frontera, x2_frontera, 'm')\n",
    "plt.title(u'Ejemplo sintético para regresión logística')\n",
    "plt.xlabel(u'Calificación del primer examen')\n",
    "plt.ylabel(u'Calificación del segundo examen')\n",
    "plt.axis([20, 100, 20, 100])\n",
    "plt.legend(loc=0)\n",
    "\n"
   ]
  },
  {
   "cell_type": "markdown",
   "metadata": {},
   "source": [
    "Y para que tengas una idea de lo que debería de salir, anexo una figura obtenida con el código que yo hice:"
   ]
  },
  {
   "cell_type": "code",
   "execution_count": 12,
   "metadata": {},
   "outputs": [
    {
     "data": {
      "image/png": "[encoded data removed]",
      "text/plain": [
       "<IPython.core.display.Image object>"
      ]
     },
     "execution_count": 12,
     "metadata": {},
     "output_type": "execute_result"
    }
   ],
   "source": [
    "Image(filename='imagenes\\ejemplo_logistica.png')"
   ]
  },
  {
   "cell_type": "markdown",
   "metadata": {},
   "source": [
    "## 3. Clasificación polinomial\n",
    "\n",
    "Como podemos ver en la gráfica de arriba, parece ser que la regresión logística aceptaría a algunos estudiantes rechazados y rechazaría a algunos que si fueron en realidad aceptados. En todo método de clasificación hay un grado de error, y eso es parte del poder de generalización de los métodos. \n",
    "\n",
    "Sin embargo, una simple inspección visual muestra que, posiblemente, la regresión lineal no es la mejor solución, ya que la frontera entre las dos clases parece ser más bien una curva.\n",
    "\n",
    "¿Que tal si probamos con un clasificador cuadrático? Un clasificador cuadrático no es más que la regresión lineal pero a la que se le agregan todos los atributos que sean una combinación de dos de los atributos. \n",
    "\n",
    "Por ejemplo, si un ejemplo $x = (x_1, x_2, x_3)^T$ se aumenta con todas sus componentes cuadráticas, entonces tenemos los atributos\n",
    "\n",
    "$$\n",
    "\\phi_2(x) = (x_1, x_2, x_3, x_1 x_2, x_1 x_3, x_2 x_3, x_1^2, x_2^2, x_3^2)^T.\n",
    "$$ \n",
    "\n",
    "De la misma manera se pueden obtener clasificadores de orden tres, cuatro, cinco, etc. En general a estos clasificadores se les conoce como **clasificadores polinomiales**. Ahora, para entender bien la idea, vamos a resolver el problema anterior con un clasificador de orden 2. \n",
    "\n",
    "Sin embargo, si luego se quiere hacer el reconocimiento de otros objetos, o cambiar el orden del polinomio, pues se requeriría de reclcular cada vez la expansión polinomial. Vamos a generalizar la obtención de atributos polinomiales con la función `map_poly`, la cual la vamos a desarrollar a continuación.\n",
    "\n",
    "En este caso, la normalización de los datos es muy importante, por lo que se agregan las funciones pertinentes.\n"
   ]
  },
  {
   "cell_type": "code",
   "execution_count": 13,
   "metadata": {},
   "outputs": [],
   "source": [
    "from itertools import combinations_with_replacement\n",
    "\n",
    "def map_poly(grad, x):\n",
    "    \"\"\"\n",
    "    Encuentra las características polinomiales hasta el grado grad de la matriz de datos x, \n",
    "    asumiendo que x[:n, 0] es la expansión de orden 1 (los valores de cada atributo)\n",
    "    \n",
    "    @param grad: un entero positivo con el grado de expansión\n",
    "    @param x: un ndarray de dimension (M, n) donde n es el número de atributos\n",
    "    \n",
    "    @return: un ndarray de dimensión (M, n_phi) donde\n",
    "             n_phi = \\sum_{i = 1}^grad fact(i + n - 1)/(fact(i) * fact(n - 1))\n",
    "    \"\"\"\n",
    "    \n",
    "    if int(grad) < 2:\n",
    "        raise ValueError('grad debe de ser mayor a 1')\n",
    "    \n",
    "    M, n = x.shape\n",
    "    atrib = x.copy()\n",
    "    x_phi = x.copy()\n",
    "    for i in range(2, int(grad) + 1):\n",
    "        for comb in combinations_with_replacement(range(n), i):\n",
    "            x_phi = np.c_[x_phi, np.prod(atrib[:, comb], axis=1)]\n",
    "    return x_phi   \n",
    "\n",
    "def medias_std(x):\n",
    "    \"\"\"\n",
    "    Obtiene un vector de medias y desviaciones estandar para normalizar\n",
    "    \n",
    "    @param x: Un ndarray de (M, n) con una matriz de diseño\n",
    "    \n",
    "    @return: mu, des_std dos ndarray de dimensiones (n, ) con las medias y desviaciones estandar\n",
    "    \n",
    "    \"\"\"\n",
    "    return np.mean(x, axis=0), np.std(x, axis=0)\n",
    "\n",
    "def normaliza(x, mu, des_std):\n",
    "    \"\"\"\n",
    "    Normaliza los datos x\n",
    "    \n",
    "    @param x: un ndarray de dimension (M, n) con la matriz de diseño\n",
    "    @param mu: un ndarray (n, ) con las medias\n",
    "    @param des_std: un ndarray (n, ) con las desviaciones estandard\n",
    "    \n",
    "    @return: un ndarray (M, n) con x normalizado\n",
    "    \n",
    "    \"\"\"\n",
    "    return (x - mu) / des_std\n"
   ]
  },
  {
   "cell_type": "markdown",
   "metadata": {},
   "source": [
    "**Realiza la clasificación de los datos utilizando un clasificador cuadrático (recuerda ajustar primero el valor de alpha**"
   ]
  },
  {
   "cell_type": "code",
   "execution_count": 14,
   "metadata": {},
   "outputs": [
    {
     "data": {
      "text/plain": [
       "Text(0.5,1,'Evaluación del parámetro alpha')"
      ]
     },
     "execution_count": 14,
     "metadata": {},
     "output_type": "execute_result"
    },
    {
     "data": {
      "image/png": "[encoded data removed]",
      "text/plain": [
       "<matplotlib.figure.Figure at 0x241c1078470>"
      ]
     },
     "metadata": {},
     "output_type": "display_data"
    }
   ],
   "source": [
    "# Encuentra phi_x (x son la expansión polinomial de segundo orden, utiliza la función map_poly\n",
    "phi_x =  map_poly(2, x) #--Agrega el código aqui--\n",
    "mu, de = medias_std(phi_x)\n",
    "phi_x_norm = normaliza(phi_x, mu, de)\n",
    "\n",
    "# Utiliza la regresión logística\n",
    "alpha = 1 #--Agrega el dato aqui--\n",
    "max_iter =  50#--Agrega el dato aqui--\n",
    "_, _, hist_loss = descenso_rl_lotes(phi_x_norm, y, alpha, max_iter, historial=True)\n",
    "\n",
    "plt.plot(range(len(hist_loss)), hist_loss)\n",
    "plt.xlabel('epochs')\n",
    "plt.ylabel('Loss')\n",
    "plt.title('Evaluación del parámetro alpha')"
   ]
  },
  {
   "cell_type": "code",
   "execution_count": 15,
   "metadata": {},
   "outputs": [
    {
     "name": "stdout",
     "output_type": "stream",
     "text": [
      "Los pesos obtenidos son: \n",
      "[ 4.26952365  3.31560398 -4.28171685 13.07997412 -2.9540264 ]\n",
      "El sesgo obtenidos es: \n",
      "6.337193908451167\n",
      "El valor final de la función de pérdida es: 0.06396056876022513\n"
     ]
    }
   ],
   "source": [
    "w_norm, b_norm, _ = descenso_rl_lotes(phi_x_norm, y, alpha, 1000)\n",
    "\n",
    "print(\"Los pesos obtenidos son: \\n{}\".format(w_norm))\n",
    "print(\"El sesgo obtenidos es: \\n{}\".format(b_norm))\n",
    "print(\"El valor final de la función de pérdida es: {}\".format(Loss(phi_x_norm, y, w_norm, b_norm))) "
   ]
  },
  {
   "cell_type": "markdown",
   "metadata": {},
   "source": [
    "donde se puede encontrar un valor de pérdida de aproximadamente 0.03.\n",
    "\n",
    "Esto lo tenemos que graficar. Pero graficar la separación de datos en una proyección en las primeras dos dimensiones, no es tan sencillo como lo hicimos con una separación lineal, así que vamos atener que generar un `contour`, y sobre este graficar los datos. Para esto vamos a desarrollar una función."
   ]
  },
  {
   "cell_type": "code",
   "execution_count": 16,
   "metadata": {},
   "outputs": [],
   "source": [
    "def plot_separacion2D(x, y, grado, mu, de, w, b):\n",
    "    \"\"\"\n",
    "    Grafica las primeras dos dimensiones (posiciones 1 y 2) de datos en dos dimensiones \n",
    "    extendidos con un clasificador polinomial así como la separación dada por theta_phi\n",
    "    \n",
    "    \"\"\"\n",
    "    if grado < 2:\n",
    "        raise ValueError('Esta funcion es para graficar separaciones con polinomios mayores a 1')\n",
    "    \n",
    "    x1_min, x1_max = np.min(x[:,0]), np.max(x[:,0])\n",
    "    x2_min, x2_max = np.min(x[:,1]), np.max(x[:,1])\n",
    "    delta1, delta2 = (x1_max - x1_min) * 0.1, (x2_max - x2_min) * 0.1\n",
    "\n",
    "    spanX1 = np.linspace(x1_min - delta1, x1_max + delta1, 600)\n",
    "    spanX2 = np.linspace(x2_min - delta2, x2_max + delta2, 600)\n",
    "    X1, X2 = np.meshgrid(spanX1, spanX2)\n",
    "    X = normaliza(map_poly(grado, np.c_[X1.ravel(), X2.ravel()]), mu, de)\n",
    "        \n",
    "    Z = predictor(X, w, b)\n",
    "    Z = Z.reshape(X1.shape[0], X1.shape[1])\n",
    "    \n",
    "    # plt.contour(X1, X2, Z, linewidths=0.2, colors='k')\n",
    "    plt.contourf(X1, X2, Z, 1, cmap=plt.cm.binary_r)\n",
    "    plt.plot(x[y > 0.5, 0], x[y > 0.5, 1], 'sr', label='clase positiva')\n",
    "    plt.plot(x[y < 0.5, 0], x[y < 0.5, 1], 'oy', label='clase negativa')\n",
    "    plt.axis([spanX1[0], spanX1[-1], spanX2[0], spanX2[-1]])"
   ]
  },
  {
   "cell_type": "markdown",
   "metadata": {},
   "source": [
    "Y ahora vamos a probar la función `plot_separacion2D` con los datos de entrenamiento. El comando tarda, ya que estamos haciendo un grid de 200 $\\times$ 200, y realizando evaluaciones individuales."
   ]
  },
  {
   "cell_type": "code",
   "execution_count": 17,
   "metadata": {},
   "outputs": [
    {
     "ename": "NameError",
     "evalue": "name 'grado' is not defined",
     "output_type": "error",
     "traceback": [
      "\u001b[1;31m---------------------------------------------------------------------------\u001b[0m",
      "\u001b[1;31mNameError\u001b[0m                                 Traceback (most recent call last)",
      "\u001b[1;32m<ipython-input-17-60f709269759>\u001b[0m in \u001b[0;36m<module>\u001b[1;34m()\u001b[0m\n\u001b[1;32m----> 1\u001b[1;33m \u001b[0mplot_separacion2D\u001b[0m\u001b[1;33m(\u001b[0m\u001b[0mx\u001b[0m\u001b[1;33m,\u001b[0m \u001b[0my\u001b[0m\u001b[1;33m,\u001b[0m \u001b[0mgrado\u001b[0m\u001b[1;33m,\u001b[0m \u001b[0mmu\u001b[0m\u001b[1;33m,\u001b[0m \u001b[0mde\u001b[0m\u001b[1;33m,\u001b[0m \u001b[0mw_norm\u001b[0m\u001b[1;33m,\u001b[0m \u001b[0mb_norm\u001b[0m\u001b[1;33m)\u001b[0m\u001b[1;33m\u001b[0m\u001b[0m\n\u001b[0m\u001b[0;32m      2\u001b[0m \u001b[0mplt\u001b[0m\u001b[1;33m.\u001b[0m\u001b[0mtitle\u001b[0m\u001b[1;33m(\u001b[0m\u001b[1;34mu\"Separación con un clasificador cuadrático\"\u001b[0m\u001b[1;33m)\u001b[0m\u001b[1;33m\u001b[0m\u001b[0m\n\u001b[0;32m      3\u001b[0m \u001b[0mplt\u001b[0m\u001b[1;33m.\u001b[0m\u001b[0mxlabel\u001b[0m\u001b[1;33m(\u001b[0m\u001b[1;34mu\"Calificación del primer examen\"\u001b[0m\u001b[1;33m)\u001b[0m\u001b[1;33m\u001b[0m\u001b[0m\n\u001b[0;32m      4\u001b[0m \u001b[0mplt\u001b[0m\u001b[1;33m.\u001b[0m\u001b[0mylabel\u001b[0m\u001b[1;33m(\u001b[0m\u001b[1;34mu\"Calificación del segundo examen\"\u001b[0m\u001b[1;33m)\u001b[0m\u001b[1;33m\u001b[0m\u001b[0m\n",
      "\u001b[1;31mNameError\u001b[0m: name 'grado' is not defined"
     ]
    }
   ],
   "source": [
    "plot_separacion2D(x, y, grado, mu, de, w_norm, b_norm)\n",
    "plt.title(u\"Separación con un clasificador cuadrático\")\n",
    "plt.xlabel(u\"Calificación del primer examen\")\n",
    "plt.ylabel(u\"Calificación del segundo examen\")"
   ]
  },
  {
   "cell_type": "markdown",
   "metadata": {},
   "source": [
    "Y para dar una idea de lo que debería de salir, anexo una figura tal como me salió a mi"
   ]
  },
  {
   "cell_type": "code",
   "execution_count": null,
   "metadata": {},
   "outputs": [],
   "source": [
    "Image(filename='imagenes\\ejemplo_cuad.png')"
   ]
  },
  {
   "cell_type": "markdown",
   "metadata": {},
   "source": [
    "Como podemos ver, un clasificador polinomial de orden 2 clasifica mejor los datos de aprendizaje, y además parece suficientemente simple para ser la mejor opción para hacer la predicción. Claro, esto lo sabemos porque pudimos visualizar los datos, y en el fondo estamos haciendo trampa, al seleccionar la expansión polinomial a partir de una inspección visual de los datos.\n",
    "\n",
    "Tomemos ahora una base de datos que si bien es sintética es representativa de una familia de problemas a resolver. Supongamos que estámos opimizando la fase de pruebas dentro de la linea de producción de la empresa Microprocesadores del Noroeste S.A. de C.V.. La idea es reducir el banco de pruebas de cada nuevo microprocesador fabricado y en lugar de hacer 50 pruebas, reducirlas a 2. En el conjunto de datos tenemos los valores que obtuvo cada componente en las dos pruebas seleccionadas, y la decisión que se tomo con cada dispositivo (esta desición se tomo con el banco de 50 reglas). Los datos los podemos visualizar a continuación."
   ]
  },
  {
   "cell_type": "code",
   "execution_count": null,
   "metadata": {},
   "outputs": [],
   "source": [
    "datos = np.loadtxt('datos/prod_test.txt', comments='%', delimiter=',')\n",
    "\n",
    "x, y = datos[:,0:-1], datos[:,-1] \n",
    "\n",
    "plt.plot(x[y == 1, 0], x[y == 1, 1], 'or', label='cumple calidad') \n",
    "plt.plot(x[y == 0, 0], x[y == 0, 1], 'ob', label='rechazado')\n",
    "plt.title(u'Ejemplo de pruebas de un producto')\n",
    "plt.xlabel(u'Valor obtenido en prueba 1')\n",
    "plt.ylabel(u'Valor obtenido en prueba 2')\n",
    "#plt.axis([20, 100, 20, 100])\n",
    "plt.legend(loc=0)"
   ]
  },
  {
   "cell_type": "markdown",
   "metadata": {},
   "source": [
    "Cláramente este problema no se puede solucionar con un clasificador lineal (1 orden), por lo que hay que probar otros tipos de clasificadores.\n",
    "\n",
    "**Completa el código para hacer regresión polinomial para polinomios de orden 2, 4, 6 y 8, y muestra los resultados en una figura. Recuerda que este ejercicio puede tomar bastante tiempo de cómputo. Posiblemente tengas que hacer ajustes en el código para manejar diferentes valores de alpha y max_iter de acuerdo a cada caso**"
   ]
  },
  {
   "cell_type": "code",
   "execution_count": null,
   "metadata": {},
   "outputs": [],
   "source": [
    "for (i, grado) in enumerate([2, 6, 10, 14]):\n",
    "\n",
    "    # Genera la expansión polinomial\n",
    "    phi_x = map_poly(grado,x)\n",
    "    mu, de = medias_std(phi_x)\n",
    "    # Normaliza\n",
    "    phi_x_norm = normaliza(phi_x, mu, de)\n",
    "    # Entrena\n",
    " \n",
    "    # Utiliza la regresión logística\n",
    "    alpha =  1e-1\n",
    "    max_iter = 50000\n",
    "    w_norm, b_norm, _ = descenso_rl_lotes(phi_x_norm, y, alpha, max_iter)\n",
    "\n",
    "    # Muestra resultados con plot_separacion2D \n",
    "    plt.subplot(2, 2, i + 1)\n",
    "    plt.title(\"Polinomio de grado {}\".format(grado))\n",
    "    # --- Agregar codigo aquí ---\n",
    "    plot_separacion2D(x, y, grado, mu, de, w_norm, b_norm)\n",
    "    "
   ]
  },
  {
   "cell_type": "markdown",
   "metadata": {},
   "source": [
    "y un resultado parcial (no verifiqué el mínimo global en los cuatro casos) es el que pongo en la figura siguente:"
   ]
  },
  {
   "cell_type": "code",
   "execution_count": null,
   "metadata": {},
   "outputs": [],
   "source": [
    "Image(filename='imagenes\\ejemplo_poly.png')"
   ]
  },
  {
   "cell_type": "markdown",
   "metadata": {},
   "source": [
    "## 4. Regularización\n",
    "\n",
    "Como podemos ver del ejercicio anterior, es dificil determinar el grado del polinomio, y en algunos casos es demasiado general (subaprendizaje) y en otros demasiado específico (sobreaprendizaje). ¿Que podría ser la solución?, bueno, una solución posible es utilizar un polinomio de alto grado (o relativamente alto), y utilizar la **regularización** para controlar la generalización del algoritmo, a través de una variable $\\lambda$.\n",
    "\n",
    "Recordemos, la función de costos de la regresión logística con regularización es:\n",
    "\n",
    "$$\n",
    "costo(w, b) = Loss(w, b) + \\frac{\\lambda}{M} regu(w),\n",
    "$$\n",
    "\n",
    "donde $regu(w)$ es una regularización, la cual puede ser $L_1$, $L_2$ u otras, tal como vimos en clase. Como en la libreta de regresión lineal ya algo se hizo con la regularización, aqui nos vamos a pasar directamente a calcular el costo, el gradiente regularizado y la modificación al método de descenso de grdiente por lotes que tenemos programado.\n",
    "\n",
    "**Completa el siguiente código, utilizando una regularización en $L_2$**\n"
   ]
  },
  {
   "cell_type": "code",
   "execution_count": null,
   "metadata": {},
   "outputs": [],
   "source": [
    "def costo(x, y, w, b, lambd):\n",
    "    \"\"\"\n",
    "    Calcula el costo de una w dada para el conjunto dee entrenamiento dado por y y x,\n",
    "    usando regularización\n",
    "    \n",
    "    @param x: un ndarray de dimensión (M, n) con la matriz de diseño\n",
    "    @param y: un ndarray de dimensión (M, ) donde cada entrada es 1.0 o 0.0\n",
    "    @param w: un ndarray de dimensión (n, ) con los pesos\n",
    "    @param b: un flotante con el sesgo\n",
    "    @param lambd: un flotante con el valor de lambda en la regularizacion\n",
    "\n",
    "    @return: un flotante con el valor de pérdida\n",
    "    \n",
    "    \"\"\" \n",
    "    M = x.shape[0]\n",
    "    \n",
    "    #------------------------------------------------------------------------\n",
    "    # Agregua aqui tu código\n",
    "    reg = w.T @ w #regularizacion L2\n",
    "    \n",
    "    return Loss(x,y,w,b) + (lambd / 2*M) * reg\n",
    "    \n",
    "    #------------------------------------------------------------------------\n",
    "\n",
    "def grad_regu(x, y, w, b, lambd):\n",
    "    \"\"\"\n",
    "    Calcula el gradiente de la función de costo regularizado para clasificación binaria, \n",
    "    utilizando una neurona logística, para w y b y conociendo un conjunto de aprendizaje.\n",
    "    \n",
    "    @param x: un ndarray de dimensión (M, n) con la matriz de diseño\n",
    "    @param y: un ndarray de dimensión (M, ) donde cada entrada es 1.0 o 0.0\n",
    "    @param w: un ndarray de dimensión (n, ) con los pesos\n",
    "    @param b: un flotante con el sesgo\n",
    "    @param lambd: un flotante con el peso de la regularización\n",
    "    \n",
    "    @return: dw, db, un ndarray de mismas dimensiones que w y un flotnte con el cálculo de \n",
    "             la dervada evluada en el punto w y b\n",
    "                 \n",
    "    \"\"\"\n",
    "    M = x.shape[0]\n",
    "\n",
    "    #------------------------------------------------------------------------\n",
    "    # Agregua aqui tu código\n",
    "    a = logistica(x @ w + b)\n",
    "    \n",
    "    grad = (x.T @ (y-a))\n",
    "    grad_reg = lambd*w / M\n",
    "    \n",
    "    dw = (-1/M) * grad + grad_reg\n",
    "    db = -(y - a).mean()\n",
    "    #------------------------------------------------------------------------\n",
    "    return dw, db\n",
    "\n",
    "\n",
    "def desc_lotes_regu(x, y, alpha, lambd, max_iter=int(1e4), tol=1e-4, historial=False):\n",
    "    \"\"\"\n",
    "    Descenso de gradiente por lotes para resolver el problema de regresión logística con un conjunto de aprendizaje\n",
    "\n",
    "    @param x: un ndarray de dimensión (M, n) con la matriz de diseño\n",
    "    @param y: un ndarray de dimensión (M, ) donde cada entrada es 1.0 o 0.0\n",
    "    @param alpha: Un flotante (típicamente pequeño) con la tasa de aprendizaje\n",
    "    @param lambd: Un flotante con el valor de la regularización\n",
    "    @param max_iter: Máximo numero de iteraciones. Por default 1e4\n",
    "    @param tol: Un flotante pequeño como criterio de paro. Por default 1e-4\n",
    "    @param historial: Un booleano para saber si guardamos el historial de la función de pérdida o no\n",
    "    \n",
    "    @return: w, b, perdida_hist donde w es ndarray de dimensión (n, ) con los pesos; el flotante b  \n",
    "             con el sesgo y perdida_hist, un ndarray de dimensión (max_iter,) con el valor de la función \n",
    "             de pérdida en cada iteración. Si historial == True, entonces perdida_hist = None.\n",
    "             \n",
    "    \"\"\"\n",
    "    M, n = x.shape\n",
    "    \n",
    "    w = 0 * np.random.random(n) - 0.1\n",
    "    b = 0 * np.random.random() - 0.1\n",
    "    \n",
    "    if historial:\n",
    "        perdida_hist = np.zeros(max_iter)\n",
    "        perdida_hist[0] = costo(x, y, w, b, lambd)\n",
    "    else:\n",
    "        perdida_hist = None\n",
    "    \n",
    "    for iter in range(1, max_iter):\n",
    "        #--------------------------------------------------------------\n",
    "        # Agregar aqui tu código\n",
    "        #\n",
    "        # Recuerda utilizar las funciones que ya has desarrollado\n",
    "        \n",
    "        def batching(l, n):\n",
    "            # looping till length l \",\n",
    "            for i in range(0, len(l), n): \n",
    "                yield l[i:i + n]\n",
    "        \n",
    "        for xbatch, ybatch in zip(batching(x, 50), batching(y, 50)):\n",
    "            dw, db = grad_regu(xbatch, ybatch, w, b, lambd)\n",
    "\n",
    "            w -= alpha * dw\n",
    "            b -= alpha * db\n",
    "\n",
    "        if historial:\n",
    "            perdida_hist[iter] = costo(x,y,w,b, lambd)\n",
    "            if (perdida_hist[iter] < tol):\n",
    "                return w, b, perdida_hist\n",
    "        else:\n",
    "            if(costo(x,y,w,b, lambd) < tol):\n",
    "                return w, b, perdida_hist\n",
    "        \n",
    "        #--------------------------------------------------------------\n",
    "\n",
    "    return w, b, perdida_hist\n",
    "    \n"
   ]
  },
  {
   "cell_type": "markdown",
   "metadata": {},
   "source": [
    "\n",
    "**Desarrolla las funciones y scriprs necesarios para realizar la regresión logística con un polinomio de grado 14 y con cuatro valores de regularización diferentes. Grafica la superficie de separación para cuatro valores diferentes de $\\lambda$. Escribe tus conclusiones** "
   ]
  },
  {
   "cell_type": "code",
   "execution_count": null,
   "metadata": {},
   "outputs": [],
   "source": [
    "alphas = [1e-1, 1e-1, 1e-1, 1e-1]\n",
    "grado = 14\n",
    "for (i, lambd) in enumerate([0,1,10,100]):    \n",
    "    # Normaliza\n",
    "    phi_x = map_poly(grado, x)\n",
    "    mu, de = medias_std(phi_x)\n",
    "    phi_x_norm = normaliza(phi_x, mu, de)\n",
    "    # Entrena\n",
    "    alpha =  alphas[i]\n",
    "    max_iter = 50000\n",
    "    w_norm, b_norm, hist_loss = desc_lotes_regu(phi_x_norm, y, alpha,lambd, max_iter, historial=True)\n",
    "    # Muestra resultados con plot_separacion2D \n",
    "    plt.subplot(2, 2, i + 1)\n",
    "    plt.title(\"Polinomio de grado 14, regu = {}.\".format(lambd))\n",
    "    # --- Agregar codigo aquí ---\n",
    "\n",
    "    plot_separacion2D(x, y, grado, mu, de, w_norm, b_norm)\n",
    " "
   ]
  },
  {
   "cell_type": "markdown",
   "metadata": {},
   "source": [
    "y tambien pongo unos resultados preliminares para que los contrasten con los suyos."
   ]
  },
  {
   "cell_type": "code",
   "execution_count": null,
   "metadata": {},
   "outputs": [],
   "source": [
    "Image(filename='imagenes\\ejemplo_regu.png')"
   ]
  }
 ],
 "metadata": {
  "kernelspec": {
   "display_name": "Python 3",
   "language": "python",
   "name": "python3"
  },
  "language_info": {
   "codemirror_mode": {
    "name": "ipython",
    "version": 3
   },
   "file_extension": ".py",
   "mimetype": "text/x-python",
   "name": "python",
   "nbconvert_exporter": "python",
   "pygments_lexer": "ipython3",
   "version": "3.6.4"
  }
 },
 "nbformat": 4,
 "nbformat_minor": 1
}
